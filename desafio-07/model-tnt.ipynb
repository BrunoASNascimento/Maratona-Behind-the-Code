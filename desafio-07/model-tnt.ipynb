{
  "nbformat": 4,
  "nbformat_minor": 0,
  "metadata": {
    "kernelspec": {
      "display_name": "Python 3.6",
      "language": "python",
      "name": "python3"
    },
    "language_info": {
      "codemirror_mode": {
        "name": "ipython",
        "version": 3
      },
      "file_extension": ".py",
      "mimetype": "text/x-python",
      "name": "python",
      "nbconvert_exporter": "python",
      "pygments_lexer": "ipython3",
      "version": "3.6.9"
    },
    "colab": {
      "name": "model-tnt.ipynb",
      "provenance": [],
      "toc_visible": true
    }
  },
  "cells": [
    {
      "cell_type": "code",
      "metadata": {
        "id": "56yXBQMCpUbs",
        "colab_type": "code",
        "colab": {}
      },
      "source": [
        "# Insira seu project token aqui"
      ],
      "execution_count": null,
      "outputs": []
    },
    {
      "cell_type": "markdown",
      "metadata": {
        "collapsed": true,
        "id": "dEzFPkFmpUbz",
        "colab_type": "text"
      },
      "source": [
        "# MARATONA BEHIND THE CODE 2020\n",
        "\n",
        "## DESAFIO 7 - TNT"
      ]
    },
    {
      "cell_type": "markdown",
      "metadata": {
        "id": "rkvvOyVipUb0",
        "colab_type": "text"
      },
      "source": [
        "<hr>"
      ]
    },
    {
      "cell_type": "markdown",
      "metadata": {
        "id": "1zfgsg_rpUcG",
        "colab_type": "text"
      },
      "source": [
        "## Download dos conjuntos de dados em formato .csv"
      ]
    },
    {
      "cell_type": "code",
      "metadata": {
        "id": "2OlW8fpRpUcH",
        "colab_type": "code",
        "colab": {}
      },
      "source": [
        "import pandas as pd"
      ],
      "execution_count": 3,
      "outputs": []
    },
    {
      "cell_type": "code",
      "metadata": {
        "id": "aw-dHxsfpUcP",
        "colab_type": "code",
        "colab": {
          "base_uri": "https://localhost:8080/",
          "height": 204
        },
        "outputId": "c43f3fd7-ddf2-4746-93b8-d5429292b9fc"
      },
      "source": [
        "# Insira aqui o pandasDataFrame.\n",
        "df = pd.read_csv('https://raw.githubusercontent.com/BrunoASNascimento/Maratona-Behind-the-Code-2020/master/desafio-07/data/data-set.csv')\n",
        "df.head()"
      ],
      "execution_count": 4,
      "outputs": [
        {
          "output_type": "execute_result",
          "data": {
            "text/html": [
              "<div>\n",
              "<style scoped>\n",
              "    .dataframe tbody tr th:only-of-type {\n",
              "        vertical-align: middle;\n",
              "    }\n",
              "\n",
              "    .dataframe tbody tr th {\n",
              "        vertical-align: top;\n",
              "    }\n",
              "\n",
              "    .dataframe thead th {\n",
              "        text-align: right;\n",
              "    }\n",
              "</style>\n",
              "<table border=\"1\" class=\"dataframe\">\n",
              "  <thead>\n",
              "    <tr style=\"text-align: right;\">\n",
              "      <th></th>\n",
              "      <th>Tempo</th>\n",
              "      <th>Estação</th>\n",
              "      <th>LAT</th>\n",
              "      <th>LONG</th>\n",
              "      <th>Movimentação</th>\n",
              "      <th>Original_473</th>\n",
              "      <th>Original_269</th>\n",
              "      <th>Zero</th>\n",
              "      <th>Maçã-Verde</th>\n",
              "      <th>Tangerina</th>\n",
              "      <th>Citrus</th>\n",
              "      <th>Açaí-Guaraná</th>\n",
              "      <th>Pêssego</th>\n",
              "      <th>TARGET</th>\n",
              "    </tr>\n",
              "  </thead>\n",
              "  <tbody>\n",
              "    <tr>\n",
              "      <th>0</th>\n",
              "      <td>2018-5-20</td>\n",
              "      <td>Tamanduateí</td>\n",
              "      <td>-23.5929</td>\n",
              "      <td>-46.5897</td>\n",
              "      <td>52665</td>\n",
              "      <td>74</td>\n",
              "      <td>42</td>\n",
              "      <td>52</td>\n",
              "      <td>28</td>\n",
              "      <td>38</td>\n",
              "      <td>6</td>\n",
              "      <td>20</td>\n",
              "      <td>43</td>\n",
              "      <td>NORMAL</td>\n",
              "    </tr>\n",
              "    <tr>\n",
              "      <th>1</th>\n",
              "      <td>2018-7-10</td>\n",
              "      <td>São Judas</td>\n",
              "      <td>-23.6255</td>\n",
              "      <td>-46.6411</td>\n",
              "      <td>15602</td>\n",
              "      <td>86</td>\n",
              "      <td>44</td>\n",
              "      <td>10</td>\n",
              "      <td>14</td>\n",
              "      <td>19</td>\n",
              "      <td>37</td>\n",
              "      <td>16</td>\n",
              "      <td>27</td>\n",
              "      <td>NORMAL</td>\n",
              "    </tr>\n",
              "    <tr>\n",
              "      <th>2</th>\n",
              "      <td>2018-8-29</td>\n",
              "      <td>São Judas</td>\n",
              "      <td>-23.6255</td>\n",
              "      <td>-46.6411</td>\n",
              "      <td>15163</td>\n",
              "      <td>5</td>\n",
              "      <td>4</td>\n",
              "      <td>65</td>\n",
              "      <td>36</td>\n",
              "      <td>39</td>\n",
              "      <td>5</td>\n",
              "      <td>25</td>\n",
              "      <td>6</td>\n",
              "      <td>NORMAL</td>\n",
              "    </tr>\n",
              "    <tr>\n",
              "      <th>3</th>\n",
              "      <td>2018-10-2</td>\n",
              "      <td>Tamanduateí</td>\n",
              "      <td>-23.5929</td>\n",
              "      <td>-46.5897</td>\n",
              "      <td>51568</td>\n",
              "      <td>40</td>\n",
              "      <td>56</td>\n",
              "      <td>12</td>\n",
              "      <td>43</td>\n",
              "      <td>5</td>\n",
              "      <td>17</td>\n",
              "      <td>14</td>\n",
              "      <td>39</td>\n",
              "      <td>REABASTECER</td>\n",
              "    </tr>\n",
              "    <tr>\n",
              "      <th>4</th>\n",
              "      <td>2019-9-29</td>\n",
              "      <td>Tamanduateí</td>\n",
              "      <td>-23.5929</td>\n",
              "      <td>-46.5897</td>\n",
              "      <td>51751</td>\n",
              "      <td>78</td>\n",
              "      <td>33</td>\n",
              "      <td>40</td>\n",
              "      <td>31</td>\n",
              "      <td>28</td>\n",
              "      <td>15</td>\n",
              "      <td>3</td>\n",
              "      <td>3</td>\n",
              "      <td>NORMAL</td>\n",
              "    </tr>\n",
              "  </tbody>\n",
              "</table>\n",
              "</div>"
            ],
            "text/plain": [
              "       Tempo      Estação      LAT  ...  Açaí-Guaraná  Pêssego       TARGET\n",
              "0  2018-5-20  Tamanduateí -23.5929  ...            20       43       NORMAL\n",
              "1  2018-7-10    São Judas -23.6255  ...            16       27       NORMAL\n",
              "2  2018-8-29    São Judas -23.6255  ...            25        6       NORMAL\n",
              "3  2018-10-2  Tamanduateí -23.5929  ...            14       39  REABASTECER\n",
              "4  2019-9-29  Tamanduateí -23.5929  ...             3        3       NORMAL\n",
              "\n",
              "[5 rows x 14 columns]"
            ]
          },
          "metadata": {
            "tags": []
          },
          "execution_count": 4
        }
      ]
    },
    {
      "cell_type": "code",
      "metadata": {
        "id": "pawBiBJ5p64E",
        "colab_type": "code",
        "colab": {
          "base_uri": "https://localhost:8080/",
          "height": 374
        },
        "outputId": "b9642f35-7cf6-42d8-97bd-8a2ccad83362"
      },
      "source": [
        "df.info()"
      ],
      "execution_count": 5,
      "outputs": [
        {
          "output_type": "stream",
          "text": [
            "<class 'pandas.core.frame.DataFrame'>\n",
            "RangeIndex: 1453 entries, 0 to 1452\n",
            "Data columns (total 14 columns):\n",
            " #   Column        Non-Null Count  Dtype  \n",
            "---  ------        --------------  -----  \n",
            " 0   Tempo         1453 non-null   object \n",
            " 1   Estação       1453 non-null   object \n",
            " 2   LAT           1453 non-null   float64\n",
            " 3   LONG          1453 non-null   float64\n",
            " 4   Movimentação  1453 non-null   int64  \n",
            " 5   Original_473  1453 non-null   int64  \n",
            " 6   Original_269  1453 non-null   int64  \n",
            " 7   Zero          1453 non-null   int64  \n",
            " 8   Maçã-Verde    1453 non-null   int64  \n",
            " 9   Tangerina     1453 non-null   int64  \n",
            " 10  Citrus        1453 non-null   int64  \n",
            " 11  Açaí-Guaraná  1453 non-null   int64  \n",
            " 12  Pêssego       1453 non-null   int64  \n",
            " 13  TARGET        1453 non-null   object \n",
            "dtypes: float64(2), int64(9), object(3)\n",
            "memory usage: 159.0+ KB\n"
          ],
          "name": "stdout"
        }
      ]
    },
    {
      "cell_type": "code",
      "metadata": {
        "id": "3OlHK2pVpUcU",
        "colab_type": "code",
        "colab": {
          "base_uri": "https://localhost:8080/",
          "height": 204
        },
        "outputId": "47165546-ec16-4536-a0f5-46fb74ad75df"
      },
      "source": [
        "df_training_dataset = df\n",
        "df_training_dataset.tail()"
      ],
      "execution_count": 7,
      "outputs": [
        {
          "output_type": "execute_result",
          "data": {
            "text/html": [
              "<div>\n",
              "<style scoped>\n",
              "    .dataframe tbody tr th:only-of-type {\n",
              "        vertical-align: middle;\n",
              "    }\n",
              "\n",
              "    .dataframe tbody tr th {\n",
              "        vertical-align: top;\n",
              "    }\n",
              "\n",
              "    .dataframe thead th {\n",
              "        text-align: right;\n",
              "    }\n",
              "</style>\n",
              "<table border=\"1\" class=\"dataframe\">\n",
              "  <thead>\n",
              "    <tr style=\"text-align: right;\">\n",
              "      <th></th>\n",
              "      <th>Tempo</th>\n",
              "      <th>Estação</th>\n",
              "      <th>LAT</th>\n",
              "      <th>LONG</th>\n",
              "      <th>Movimentação</th>\n",
              "      <th>Original_473</th>\n",
              "      <th>Original_269</th>\n",
              "      <th>Zero</th>\n",
              "      <th>Maçã-Verde</th>\n",
              "      <th>Tangerina</th>\n",
              "      <th>Citrus</th>\n",
              "      <th>Açaí-Guaraná</th>\n",
              "      <th>Pêssego</th>\n",
              "      <th>TARGET</th>\n",
              "    </tr>\n",
              "  </thead>\n",
              "  <tbody>\n",
              "    <tr>\n",
              "      <th>1448</th>\n",
              "      <td>2019-6-10</td>\n",
              "      <td>República</td>\n",
              "      <td>-23.5436</td>\n",
              "      <td>-46.6434</td>\n",
              "      <td>108690</td>\n",
              "      <td>8</td>\n",
              "      <td>17</td>\n",
              "      <td>31</td>\n",
              "      <td>19</td>\n",
              "      <td>21</td>\n",
              "      <td>27</td>\n",
              "      <td>39</td>\n",
              "      <td>28</td>\n",
              "      <td>REABASTECER</td>\n",
              "    </tr>\n",
              "    <tr>\n",
              "      <th>1449</th>\n",
              "      <td>2019-6-25</td>\n",
              "      <td>República</td>\n",
              "      <td>-23.5436</td>\n",
              "      <td>-46.6434</td>\n",
              "      <td>107154</td>\n",
              "      <td>30</td>\n",
              "      <td>61</td>\n",
              "      <td>55</td>\n",
              "      <td>10</td>\n",
              "      <td>43</td>\n",
              "      <td>18</td>\n",
              "      <td>22</td>\n",
              "      <td>4</td>\n",
              "      <td>NORMAL</td>\n",
              "    </tr>\n",
              "    <tr>\n",
              "      <th>1450</th>\n",
              "      <td>2018-5-17</td>\n",
              "      <td>Higienópolis-Mackenzie</td>\n",
              "      <td>-23.5488</td>\n",
              "      <td>-46.6519</td>\n",
              "      <td>90226</td>\n",
              "      <td>18</td>\n",
              "      <td>65</td>\n",
              "      <td>47</td>\n",
              "      <td>25</td>\n",
              "      <td>7</td>\n",
              "      <td>15</td>\n",
              "      <td>34</td>\n",
              "      <td>43</td>\n",
              "      <td>NORMAL</td>\n",
              "    </tr>\n",
              "    <tr>\n",
              "      <th>1451</th>\n",
              "      <td>2019-10-15</td>\n",
              "      <td>República</td>\n",
              "      <td>-23.5436</td>\n",
              "      <td>-46.6434</td>\n",
              "      <td>108128</td>\n",
              "      <td>78</td>\n",
              "      <td>20</td>\n",
              "      <td>38</td>\n",
              "      <td>43</td>\n",
              "      <td>15</td>\n",
              "      <td>10</td>\n",
              "      <td>15</td>\n",
              "      <td>21</td>\n",
              "      <td>NORMAL</td>\n",
              "    </tr>\n",
              "    <tr>\n",
              "      <th>1452</th>\n",
              "      <td>2018-7-26</td>\n",
              "      <td>Higienópolis-Mackenzie</td>\n",
              "      <td>-23.5488</td>\n",
              "      <td>-46.6519</td>\n",
              "      <td>90526</td>\n",
              "      <td>19</td>\n",
              "      <td>27</td>\n",
              "      <td>30</td>\n",
              "      <td>25</td>\n",
              "      <td>24</td>\n",
              "      <td>12</td>\n",
              "      <td>29</td>\n",
              "      <td>17</td>\n",
              "      <td>NORMAL</td>\n",
              "    </tr>\n",
              "  </tbody>\n",
              "</table>\n",
              "</div>"
            ],
            "text/plain": [
              "           Tempo                 Estação  ...  Pêssego       TARGET\n",
              "1448   2019-6-10               República  ...       28  REABASTECER\n",
              "1449   2019-6-25               República  ...        4       NORMAL\n",
              "1450   2018-5-17  Higienópolis-Mackenzie  ...       43       NORMAL\n",
              "1451  2019-10-15               República  ...       21       NORMAL\n",
              "1452   2018-7-26  Higienópolis-Mackenzie  ...       17       NORMAL\n",
              "\n",
              "[5 rows x 14 columns]"
            ]
          },
          "metadata": {
            "tags": []
          },
          "execution_count": 7
        }
      ]
    },
    {
      "cell_type": "markdown",
      "metadata": {
        "id": "6hfwU2pXpUcb",
        "colab_type": "text"
      },
      "source": [
        "Sobre o arquivo \"training_dataset.csv\", temos algumas informações gerais sobre os pontos de vendas da TNT:\n",
        "\n",
        "**Tempo**\n",
        "\n",
        "**Estação**\n",
        "\n",
        "**LAT**\n",
        "\n",
        "**LONG**\n",
        "\n",
        "**Movimentação**\n",
        "\n",
        "**Original_473**\n",
        "\n",
        "**Original_269**\n",
        "\n",
        "**Zero**\n",
        "\n",
        "**Maçã-Verde**\n",
        "\n",
        "**Tangerina**\n",
        "\n",
        "**Citrus**\n",
        "\n",
        "**Açaí-Guaraná**\n",
        "\n",
        "**Pêssego**\n",
        "\n",
        "**TARGET**"
      ]
    },
    {
      "cell_type": "code",
      "metadata": {
        "id": "LXStAqYxpUcb",
        "colab_type": "code",
        "colab": {
          "base_uri": "https://localhost:8080/",
          "height": 374
        },
        "outputId": "1b0ad83f-6e35-4300-e224-809d56811f17"
      },
      "source": [
        "df_training_dataset.info()"
      ],
      "execution_count": 8,
      "outputs": [
        {
          "output_type": "stream",
          "text": [
            "<class 'pandas.core.frame.DataFrame'>\n",
            "RangeIndex: 1453 entries, 0 to 1452\n",
            "Data columns (total 14 columns):\n",
            " #   Column        Non-Null Count  Dtype  \n",
            "---  ------        --------------  -----  \n",
            " 0   Tempo         1453 non-null   object \n",
            " 1   Estação       1453 non-null   object \n",
            " 2   LAT           1453 non-null   float64\n",
            " 3   LONG          1453 non-null   float64\n",
            " 4   Movimentação  1453 non-null   int64  \n",
            " 5   Original_473  1453 non-null   int64  \n",
            " 6   Original_269  1453 non-null   int64  \n",
            " 7   Zero          1453 non-null   int64  \n",
            " 8   Maçã-Verde    1453 non-null   int64  \n",
            " 9   Tangerina     1453 non-null   int64  \n",
            " 10  Citrus        1453 non-null   int64  \n",
            " 11  Açaí-Guaraná  1453 non-null   int64  \n",
            " 12  Pêssego       1453 non-null   int64  \n",
            " 13  TARGET        1453 non-null   object \n",
            "dtypes: float64(2), int64(9), object(3)\n",
            "memory usage: 159.0+ KB\n"
          ],
          "name": "stdout"
        }
      ]
    },
    {
      "cell_type": "code",
      "metadata": {
        "id": "bQUNMjFkpUcf",
        "colab_type": "code",
        "colab": {
          "base_uri": "https://localhost:8080/",
          "height": 272
        },
        "outputId": "731bd82d-24e2-492c-c039-81d462c4fd33"
      },
      "source": [
        "df_training_dataset.nunique()"
      ],
      "execution_count": 9,
      "outputs": [
        {
          "output_type": "execute_result",
          "data": {
            "text/plain": [
              "Tempo            627\n",
              "Estação           22\n",
              "LAT               22\n",
              "LONG              22\n",
              "Movimentação    1395\n",
              "Original_473      81\n",
              "Original_269      65\n",
              "Zero              63\n",
              "Maçã-Verde        43\n",
              "Tangerina         42\n",
              "Citrus            43\n",
              "Açaí-Guaraná      42\n",
              "Pêssego           42\n",
              "TARGET             2\n",
              "dtype: int64"
            ]
          },
          "metadata": {
            "tags": []
          },
          "execution_count": 9
        }
      ]
    },
    {
      "cell_type": "markdown",
      "metadata": {
        "id": "28Sxcqk1pUck",
        "colab_type": "text"
      },
      "source": [
        "<hr>\n",
        "\n",
        "## Detalhamento do desafio: classificação binária\n",
        "\n",
        "Este é um desafio cujo objetivo de negócio é a segmentação dos usuários de aplicativo de um banco. Para tal, podemos utilizar duas abordagens: aprendizado de máquina supervisionado (classificação) ou não-supervisionado (clustering). Neste desafio será aplicada a classificação, pois é disponível um dataset já com \"labels\", ou em outras palavras, já com exemplos de dados juntamente com a variável alvo.\n",
        "\n",
        "Na biblioteca scikit-learn temos diversos algoritmos para classificação. O participante é livre para utilizar o framework que desejar para completar esse desafio.\n",
        "\n",
        "Neste notebook será mostrado um exeplo de uso do algoritmo \"Decision Tree\" para classificar parte dos estudantes em seis diferentes perfís."
      ]
    },
    {
      "cell_type": "markdown",
      "metadata": {
        "id": "WG3Jv9K8pUcl",
        "colab_type": "text"
      },
      "source": [
        "# Atenção!\n",
        "\n",
        "A coluna-alvo neste desafio é a coluna ``TARGET``"
      ]
    },
    {
      "cell_type": "markdown",
      "metadata": {
        "id": "W4IwnSRSpUcm",
        "colab_type": "text"
      },
      "source": [
        "<hr>"
      ]
    },
    {
      "cell_type": "code",
      "metadata": {
        "id": "c4xWiL9VpUcs",
        "colab_type": "code",
        "colab": {}
      },
      "source": [
        ""
      ],
      "execution_count": null,
      "outputs": []
    },
    {
      "cell_type": "code",
      "metadata": {
        "id": "d92EtiVrpUcy",
        "colab_type": "code",
        "colab": {}
      },
      "source": [
        ""
      ],
      "execution_count": null,
      "outputs": []
    },
    {
      "cell_type": "code",
      "metadata": {
        "id": "bkuE1txJpUc1",
        "colab_type": "code",
        "colab": {}
      },
      "source": [
        ""
      ],
      "execution_count": null,
      "outputs": []
    },
    {
      "cell_type": "markdown",
      "metadata": {
        "id": "zuMrGAWcpUc7",
        "colab_type": "text"
      },
      "source": [
        "## Pre-processando o dataset antes do treinamento"
      ]
    },
    {
      "cell_type": "markdown",
      "metadata": {
        "id": "xQ0K_JECpUc8",
        "colab_type": "text"
      },
      "source": [
        "### Processando valores NaN com o SimpleImputer do sklearn\n",
        "\n",
        "Para os valores NaN, usaremos a substituição pela constante 0 como **exemplo**.\n",
        "\n",
        "Você pode escolher a estratégia que achar melhor para tratar os valores nulos :)\n",
        "\n",
        "Docs: https://scikit-learn.org/stable/modules/generated/sklearn.impute.SimpleImputer.html?highlight=simpleimputer#sklearn.impute.SimpleImputer"
      ]
    },
    {
      "cell_type": "code",
      "metadata": {
        "id": "b6Hi42oUpUc9",
        "colab_type": "code",
        "colab": {}
      },
      "source": [
        "from sklearn.impute import SimpleImputer\n",
        "import numpy as np\n",
        "\n",
        "\n",
        "impute_zeros = SimpleImputer(\n",
        "    missing_values=np.nan,\n",
        "    strategy='constant',\n",
        "    fill_value=0,\n",
        "    verbose=0,\n",
        "    copy=True\n",
        ")"
      ],
      "execution_count": 10,
      "outputs": []
    },
    {
      "cell_type": "code",
      "metadata": {
        "id": "-S_g_3x_pUdB",
        "colab_type": "code",
        "colab": {
          "base_uri": "https://localhost:8080/",
          "height": 629
        },
        "outputId": "27f98d55-3022-4eb9-f3f0-33ead5258448"
      },
      "source": [
        "# Exibindo os dados ausentes do conjunto de dados antes da primeira transformação (df)\n",
        "print(\"Valores nulos no df_training_dataset antes da transformação SimpleImputer: \\n\\n{}\\n\".format(df_training_dataset.isnull().sum(axis = 0)))\n",
        "\n",
        "# Aplicando a transformação ``SimpleImputer`` no conjunto de dados base\n",
        "impute_zeros.fit(X=df_training_dataset)\n",
        "\n",
        "# Reconstruindo um Pandas DataFrame com os resultados\n",
        "df_training_dataset_imputed = pd.DataFrame.from_records(\n",
        "    data=impute_zeros.transform(\n",
        "        X=df_training_dataset\n",
        "    ),\n",
        "    columns=df_training_dataset.columns\n",
        ")\n",
        "\n",
        "# Exibindo os dados ausentes do conjunto de dados após a primeira transformação (df)\n",
        "print(\"Valores nulos no df_training_dataset após a transformação SimpleImputer: \\n\\n{}\\n\".format(df_training_dataset_imputed.isnull().sum(axis = 0)))"
      ],
      "execution_count": 11,
      "outputs": [
        {
          "output_type": "stream",
          "text": [
            "Valores nulos no df_training_dataset antes da transformação SimpleImputer: \n",
            "\n",
            "Tempo           0\n",
            "Estação         0\n",
            "LAT             0\n",
            "LONG            0\n",
            "Movimentação    0\n",
            "Original_473    0\n",
            "Original_269    0\n",
            "Zero            0\n",
            "Maçã-Verde      0\n",
            "Tangerina       0\n",
            "Citrus          0\n",
            "Açaí-Guaraná    0\n",
            "Pêssego         0\n",
            "TARGET          0\n",
            "dtype: int64\n",
            "\n",
            "Valores nulos no df_training_dataset após a transformação SimpleImputer: \n",
            "\n",
            "Tempo           0\n",
            "Estação         0\n",
            "LAT             0\n",
            "LONG            0\n",
            "Movimentação    0\n",
            "Original_473    0\n",
            "Original_269    0\n",
            "Zero            0\n",
            "Maçã-Verde      0\n",
            "Tangerina       0\n",
            "Citrus          0\n",
            "Açaí-Guaraná    0\n",
            "Pêssego         0\n",
            "TARGET          0\n",
            "dtype: int64\n",
            "\n"
          ],
          "name": "stdout"
        }
      ]
    },
    {
      "cell_type": "markdown",
      "metadata": {
        "id": "UIi7BAsNpUdE",
        "colab_type": "text"
      },
      "source": [
        "### Eliminando colunas indesejadas\n",
        "\n",
        "Vamos **demonstrar** abaixo como usar o método **DataFrame.drop()**.\n",
        "\n",
        "Docs: https://pandas.pydata.org/pandas-docs/stable/reference/api/pandas.DataFrame.drop.html"
      ]
    },
    {
      "cell_type": "code",
      "metadata": {
        "id": "stnkEpj4pUdF",
        "colab_type": "code",
        "colab": {
          "base_uri": "https://localhost:8080/",
          "height": 204
        },
        "outputId": "f7d4ef3d-3050-458f-b009-53e93c534a79"
      },
      "source": [
        "df_training_dataset_imputed.tail()"
      ],
      "execution_count": 12,
      "outputs": [
        {
          "output_type": "execute_result",
          "data": {
            "text/html": [
              "<div>\n",
              "<style scoped>\n",
              "    .dataframe tbody tr th:only-of-type {\n",
              "        vertical-align: middle;\n",
              "    }\n",
              "\n",
              "    .dataframe tbody tr th {\n",
              "        vertical-align: top;\n",
              "    }\n",
              "\n",
              "    .dataframe thead th {\n",
              "        text-align: right;\n",
              "    }\n",
              "</style>\n",
              "<table border=\"1\" class=\"dataframe\">\n",
              "  <thead>\n",
              "    <tr style=\"text-align: right;\">\n",
              "      <th></th>\n",
              "      <th>Tempo</th>\n",
              "      <th>Estação</th>\n",
              "      <th>LAT</th>\n",
              "      <th>LONG</th>\n",
              "      <th>Movimentação</th>\n",
              "      <th>Original_473</th>\n",
              "      <th>Original_269</th>\n",
              "      <th>Zero</th>\n",
              "      <th>Maçã-Verde</th>\n",
              "      <th>Tangerina</th>\n",
              "      <th>Citrus</th>\n",
              "      <th>Açaí-Guaraná</th>\n",
              "      <th>Pêssego</th>\n",
              "      <th>TARGET</th>\n",
              "    </tr>\n",
              "  </thead>\n",
              "  <tbody>\n",
              "    <tr>\n",
              "      <th>1448</th>\n",
              "      <td>2019-6-10</td>\n",
              "      <td>República</td>\n",
              "      <td>-23.5436</td>\n",
              "      <td>-46.6434</td>\n",
              "      <td>108690</td>\n",
              "      <td>8</td>\n",
              "      <td>17</td>\n",
              "      <td>31</td>\n",
              "      <td>19</td>\n",
              "      <td>21</td>\n",
              "      <td>27</td>\n",
              "      <td>39</td>\n",
              "      <td>28</td>\n",
              "      <td>REABASTECER</td>\n",
              "    </tr>\n",
              "    <tr>\n",
              "      <th>1449</th>\n",
              "      <td>2019-6-25</td>\n",
              "      <td>República</td>\n",
              "      <td>-23.5436</td>\n",
              "      <td>-46.6434</td>\n",
              "      <td>107154</td>\n",
              "      <td>30</td>\n",
              "      <td>61</td>\n",
              "      <td>55</td>\n",
              "      <td>10</td>\n",
              "      <td>43</td>\n",
              "      <td>18</td>\n",
              "      <td>22</td>\n",
              "      <td>4</td>\n",
              "      <td>NORMAL</td>\n",
              "    </tr>\n",
              "    <tr>\n",
              "      <th>1450</th>\n",
              "      <td>2018-5-17</td>\n",
              "      <td>Higienópolis-Mackenzie</td>\n",
              "      <td>-23.5488</td>\n",
              "      <td>-46.6519</td>\n",
              "      <td>90226</td>\n",
              "      <td>18</td>\n",
              "      <td>65</td>\n",
              "      <td>47</td>\n",
              "      <td>25</td>\n",
              "      <td>7</td>\n",
              "      <td>15</td>\n",
              "      <td>34</td>\n",
              "      <td>43</td>\n",
              "      <td>NORMAL</td>\n",
              "    </tr>\n",
              "    <tr>\n",
              "      <th>1451</th>\n",
              "      <td>2019-10-15</td>\n",
              "      <td>República</td>\n",
              "      <td>-23.5436</td>\n",
              "      <td>-46.6434</td>\n",
              "      <td>108128</td>\n",
              "      <td>78</td>\n",
              "      <td>20</td>\n",
              "      <td>38</td>\n",
              "      <td>43</td>\n",
              "      <td>15</td>\n",
              "      <td>10</td>\n",
              "      <td>15</td>\n",
              "      <td>21</td>\n",
              "      <td>NORMAL</td>\n",
              "    </tr>\n",
              "    <tr>\n",
              "      <th>1452</th>\n",
              "      <td>2018-7-26</td>\n",
              "      <td>Higienópolis-Mackenzie</td>\n",
              "      <td>-23.5488</td>\n",
              "      <td>-46.6519</td>\n",
              "      <td>90526</td>\n",
              "      <td>19</td>\n",
              "      <td>27</td>\n",
              "      <td>30</td>\n",
              "      <td>25</td>\n",
              "      <td>24</td>\n",
              "      <td>12</td>\n",
              "      <td>29</td>\n",
              "      <td>17</td>\n",
              "      <td>NORMAL</td>\n",
              "    </tr>\n",
              "  </tbody>\n",
              "</table>\n",
              "</div>"
            ],
            "text/plain": [
              "           Tempo                 Estação  ...  Pêssego       TARGET\n",
              "1448   2019-6-10               República  ...       28  REABASTECER\n",
              "1449   2019-6-25               República  ...        4       NORMAL\n",
              "1450   2018-5-17  Higienópolis-Mackenzie  ...       43       NORMAL\n",
              "1451  2019-10-15               República  ...       21       NORMAL\n",
              "1452   2018-7-26  Higienópolis-Mackenzie  ...       17       NORMAL\n",
              "\n",
              "[5 rows x 14 columns]"
            ]
          },
          "metadata": {
            "tags": []
          },
          "execution_count": 12
        }
      ]
    },
    {
      "cell_type": "code",
      "metadata": {
        "id": "bF306ghapUdK",
        "colab_type": "code",
        "colab": {}
      },
      "source": [
        "df_training_dataset_rmcolumns = df_training_dataset_imputed.drop(columns=['Tempo', 'Estação', 'LAT', 'LONG', 'Movimentação'], inplace=False)"
      ],
      "execution_count": 13,
      "outputs": []
    },
    {
      "cell_type": "code",
      "metadata": {
        "id": "zuGTh3YhpUdP",
        "colab_type": "code",
        "colab": {
          "base_uri": "https://localhost:8080/",
          "height": 204
        },
        "outputId": "1381aaac-15c7-4489-f712-a2fb7a84dd3f"
      },
      "source": [
        "df_training_dataset_rmcolumns.tail()"
      ],
      "execution_count": 14,
      "outputs": [
        {
          "output_type": "execute_result",
          "data": {
            "text/html": [
              "<div>\n",
              "<style scoped>\n",
              "    .dataframe tbody tr th:only-of-type {\n",
              "        vertical-align: middle;\n",
              "    }\n",
              "\n",
              "    .dataframe tbody tr th {\n",
              "        vertical-align: top;\n",
              "    }\n",
              "\n",
              "    .dataframe thead th {\n",
              "        text-align: right;\n",
              "    }\n",
              "</style>\n",
              "<table border=\"1\" class=\"dataframe\">\n",
              "  <thead>\n",
              "    <tr style=\"text-align: right;\">\n",
              "      <th></th>\n",
              "      <th>Original_473</th>\n",
              "      <th>Original_269</th>\n",
              "      <th>Zero</th>\n",
              "      <th>Maçã-Verde</th>\n",
              "      <th>Tangerina</th>\n",
              "      <th>Citrus</th>\n",
              "      <th>Açaí-Guaraná</th>\n",
              "      <th>Pêssego</th>\n",
              "      <th>TARGET</th>\n",
              "    </tr>\n",
              "  </thead>\n",
              "  <tbody>\n",
              "    <tr>\n",
              "      <th>1448</th>\n",
              "      <td>8</td>\n",
              "      <td>17</td>\n",
              "      <td>31</td>\n",
              "      <td>19</td>\n",
              "      <td>21</td>\n",
              "      <td>27</td>\n",
              "      <td>39</td>\n",
              "      <td>28</td>\n",
              "      <td>REABASTECER</td>\n",
              "    </tr>\n",
              "    <tr>\n",
              "      <th>1449</th>\n",
              "      <td>30</td>\n",
              "      <td>61</td>\n",
              "      <td>55</td>\n",
              "      <td>10</td>\n",
              "      <td>43</td>\n",
              "      <td>18</td>\n",
              "      <td>22</td>\n",
              "      <td>4</td>\n",
              "      <td>NORMAL</td>\n",
              "    </tr>\n",
              "    <tr>\n",
              "      <th>1450</th>\n",
              "      <td>18</td>\n",
              "      <td>65</td>\n",
              "      <td>47</td>\n",
              "      <td>25</td>\n",
              "      <td>7</td>\n",
              "      <td>15</td>\n",
              "      <td>34</td>\n",
              "      <td>43</td>\n",
              "      <td>NORMAL</td>\n",
              "    </tr>\n",
              "    <tr>\n",
              "      <th>1451</th>\n",
              "      <td>78</td>\n",
              "      <td>20</td>\n",
              "      <td>38</td>\n",
              "      <td>43</td>\n",
              "      <td>15</td>\n",
              "      <td>10</td>\n",
              "      <td>15</td>\n",
              "      <td>21</td>\n",
              "      <td>NORMAL</td>\n",
              "    </tr>\n",
              "    <tr>\n",
              "      <th>1452</th>\n",
              "      <td>19</td>\n",
              "      <td>27</td>\n",
              "      <td>30</td>\n",
              "      <td>25</td>\n",
              "      <td>24</td>\n",
              "      <td>12</td>\n",
              "      <td>29</td>\n",
              "      <td>17</td>\n",
              "      <td>NORMAL</td>\n",
              "    </tr>\n",
              "  </tbody>\n",
              "</table>\n",
              "</div>"
            ],
            "text/plain": [
              "      Original_473  Original_269  Zero  ...  Açaí-Guaraná  Pêssego       TARGET\n",
              "1448             8            17    31  ...            39       28  REABASTECER\n",
              "1449            30            61    55  ...            22        4       NORMAL\n",
              "1450            18            65    47  ...            34       43       NORMAL\n",
              "1451            78            20    38  ...            15       21       NORMAL\n",
              "1452            19            27    30  ...            29       17       NORMAL\n",
              "\n",
              "[5 rows x 9 columns]"
            ]
          },
          "metadata": {
            "tags": []
          },
          "execution_count": 14
        }
      ]
    },
    {
      "cell_type": "markdown",
      "metadata": {
        "id": "hHSYVUVKpUdS",
        "colab_type": "text"
      },
      "source": [
        "# Atenção!\n",
        "\n",
        "As colunas removidas acima são apenas para fim de exemplo, você pode usar as colunas que quiser e inclusive criar novas colunas com dados que achar importantes!\n"
      ]
    },
    {
      "cell_type": "markdown",
      "metadata": {
        "id": "EgxBYxSPpUdT",
        "colab_type": "text"
      },
      "source": [
        "### Tratamento de de variáveis categóricas\n",
        "\n",
        "Como mencionado antes, os computadores não são bons com variáveis \"categóricas\" (ou strings).\n",
        "\n",
        "Dado uma coluna com variável categórica, o que podemos realizar é a codificação dessa coluna em múltiplas colunas contendo variáveis binárias. Esse processo é chamado de \"one-hot-encoding\" ou \"dummy encoding\". Se você não é familiarizado com esses termos, você pode pesquisar mais sobre isso na internet :)"
      ]
    },
    {
      "cell_type": "code",
      "metadata": {
        "id": "rtccrtr4pUdU",
        "colab_type": "code",
        "colab": {
          "base_uri": "https://localhost:8080/",
          "height": 204
        },
        "outputId": "d4b4d295-d027-4526-91d5-70224a29725a"
      },
      "source": [
        "# Tratando variáveis categóricas com o método Pandas ``get_dummies()''\n",
        "# df_training = pd.get_dummies(df_training_dataset_rmcolumns, columns=['Variável a ser aplicado método getDumies()'])\n",
        "df_training = df_training_dataset_rmcolumns\n",
        "df_training.tail()"
      ],
      "execution_count": 15,
      "outputs": [
        {
          "output_type": "execute_result",
          "data": {
            "text/html": [
              "<div>\n",
              "<style scoped>\n",
              "    .dataframe tbody tr th:only-of-type {\n",
              "        vertical-align: middle;\n",
              "    }\n",
              "\n",
              "    .dataframe tbody tr th {\n",
              "        vertical-align: top;\n",
              "    }\n",
              "\n",
              "    .dataframe thead th {\n",
              "        text-align: right;\n",
              "    }\n",
              "</style>\n",
              "<table border=\"1\" class=\"dataframe\">\n",
              "  <thead>\n",
              "    <tr style=\"text-align: right;\">\n",
              "      <th></th>\n",
              "      <th>Original_473</th>\n",
              "      <th>Original_269</th>\n",
              "      <th>Zero</th>\n",
              "      <th>Maçã-Verde</th>\n",
              "      <th>Tangerina</th>\n",
              "      <th>Citrus</th>\n",
              "      <th>Açaí-Guaraná</th>\n",
              "      <th>Pêssego</th>\n",
              "      <th>TARGET</th>\n",
              "    </tr>\n",
              "  </thead>\n",
              "  <tbody>\n",
              "    <tr>\n",
              "      <th>1448</th>\n",
              "      <td>8</td>\n",
              "      <td>17</td>\n",
              "      <td>31</td>\n",
              "      <td>19</td>\n",
              "      <td>21</td>\n",
              "      <td>27</td>\n",
              "      <td>39</td>\n",
              "      <td>28</td>\n",
              "      <td>REABASTECER</td>\n",
              "    </tr>\n",
              "    <tr>\n",
              "      <th>1449</th>\n",
              "      <td>30</td>\n",
              "      <td>61</td>\n",
              "      <td>55</td>\n",
              "      <td>10</td>\n",
              "      <td>43</td>\n",
              "      <td>18</td>\n",
              "      <td>22</td>\n",
              "      <td>4</td>\n",
              "      <td>NORMAL</td>\n",
              "    </tr>\n",
              "    <tr>\n",
              "      <th>1450</th>\n",
              "      <td>18</td>\n",
              "      <td>65</td>\n",
              "      <td>47</td>\n",
              "      <td>25</td>\n",
              "      <td>7</td>\n",
              "      <td>15</td>\n",
              "      <td>34</td>\n",
              "      <td>43</td>\n",
              "      <td>NORMAL</td>\n",
              "    </tr>\n",
              "    <tr>\n",
              "      <th>1451</th>\n",
              "      <td>78</td>\n",
              "      <td>20</td>\n",
              "      <td>38</td>\n",
              "      <td>43</td>\n",
              "      <td>15</td>\n",
              "      <td>10</td>\n",
              "      <td>15</td>\n",
              "      <td>21</td>\n",
              "      <td>NORMAL</td>\n",
              "    </tr>\n",
              "    <tr>\n",
              "      <th>1452</th>\n",
              "      <td>19</td>\n",
              "      <td>27</td>\n",
              "      <td>30</td>\n",
              "      <td>25</td>\n",
              "      <td>24</td>\n",
              "      <td>12</td>\n",
              "      <td>29</td>\n",
              "      <td>17</td>\n",
              "      <td>NORMAL</td>\n",
              "    </tr>\n",
              "  </tbody>\n",
              "</table>\n",
              "</div>"
            ],
            "text/plain": [
              "      Original_473  Original_269  Zero  ...  Açaí-Guaraná  Pêssego       TARGET\n",
              "1448             8            17    31  ...            39       28  REABASTECER\n",
              "1449            30            61    55  ...            22        4       NORMAL\n",
              "1450            18            65    47  ...            34       43       NORMAL\n",
              "1451            78            20    38  ...            15       21       NORMAL\n",
              "1452            19            27    30  ...            29       17       NORMAL\n",
              "\n",
              "[5 rows x 9 columns]"
            ]
          },
          "metadata": {
            "tags": []
          },
          "execution_count": 15
        }
      ]
    },
    {
      "cell_type": "markdown",
      "metadata": {
        "id": "hkS_EZiMpUdX",
        "colab_type": "text"
      },
      "source": [
        "# Atenção!\n",
        "\n",
        "A coluna **TARGET** deve ser mantida como uma string. Você não precisa processar/codificar a variável-alvo."
      ]
    },
    {
      "cell_type": "markdown",
      "metadata": {
        "id": "l2ACNn_LpUdY",
        "colab_type": "text"
      },
      "source": [
        "<hr>"
      ]
    },
    {
      "cell_type": "markdown",
      "metadata": {
        "id": "OaO7sSyvpUdZ",
        "colab_type": "text"
      },
      "source": [
        "## Treinando um classificador com base em uma árvore de decisão"
      ]
    },
    {
      "cell_type": "markdown",
      "metadata": {
        "id": "FYGg9sL-pUdZ",
        "colab_type": "text"
      },
      "source": [
        "### Selecionando FEATURES e definindo a variável TARGET"
      ]
    },
    {
      "cell_type": "code",
      "metadata": {
        "id": "j0ydB6fwpUde",
        "colab_type": "code",
        "colab": {
          "base_uri": "https://localhost:8080/",
          "height": 68
        },
        "outputId": "155600eb-a80a-4e9a-e755-051fb78ccdf2"
      },
      "source": [
        "df_training.columns"
      ],
      "execution_count": 16,
      "outputs": [
        {
          "output_type": "execute_result",
          "data": {
            "text/plain": [
              "Index(['Original_473', 'Original_269', 'Zero', 'Maçã-Verde', 'Tangerina',\n",
              "       'Citrus', 'Açaí-Guaraná', 'Pêssego', 'TARGET'],\n",
              "      dtype='object')"
            ]
          },
          "metadata": {
            "tags": []
          },
          "execution_count": 16
        }
      ]
    },
    {
      "cell_type": "code",
      "metadata": {
        "id": "z-_M3-rIpUdh",
        "colab_type": "code",
        "colab": {}
      },
      "source": [
        "features = df_training[\n",
        "    [\n",
        "        'Original_473', 'Original_269', 'Zero', 'Maçã-Verde', 'Tangerina',\n",
        "       'Citrus', 'Açaí-Guaraná', 'Pêssego'\n",
        "    ]\n",
        "]\n",
        "target = df_training['TARGET']  ## NÃO TROQUE O NOME DA VARIÁVEL TARGET."
      ],
      "execution_count": 17,
      "outputs": []
    },
    {
      "cell_type": "markdown",
      "metadata": {
        "id": "rxUbyJSkpUdl",
        "colab_type": "text"
      },
      "source": [
        "### Dividindo nosso conjunto de dados em conjuntos de treinamento e teste"
      ]
    },
    {
      "cell_type": "code",
      "metadata": {
        "id": "oS5U_HkNpUdn",
        "colab_type": "code",
        "colab": {}
      },
      "source": [
        "from sklearn.model_selection import train_test_split\n",
        "\n",
        "\n",
        "X_train, X_test, y_train, y_test = train_test_split(features, target, test_size=0.33, random_state=133)"
      ],
      "execution_count": 18,
      "outputs": []
    },
    {
      "cell_type": "markdown",
      "metadata": {
        "id": "qOYJR3FtpUdv",
        "colab_type": "text"
      },
      "source": [
        "### Treinando uma árvore de decisão"
      ]
    },
    {
      "cell_type": "code",
      "metadata": {
        "id": "Qw4KJYlwpUdw",
        "colab_type": "code",
        "colab": {}
      },
      "source": [
        "# Método para criar um árvore de decisão\n",
        "from sklearn.tree import DecisionTreeClassifier\n",
        "\n",
        "\n",
        "dtc = DecisionTreeClassifier(max_depth=15).fit(X_train, y_train)"
      ],
      "execution_count": 19,
      "outputs": []
    },
    {
      "cell_type": "markdown",
      "metadata": {
        "id": "j1LZO6KapUdz",
        "colab_type": "text"
      },
      "source": [
        "### Fazendo previsões na amostra de teste"
      ]
    },
    {
      "cell_type": "code",
      "metadata": {
        "id": "Wzb-xipwpUd0",
        "colab_type": "code",
        "colab": {
          "base_uri": "https://localhost:8080/",
          "height": 1000
        },
        "outputId": "917f882b-af25-477c-de50-123697a579b8"
      },
      "source": [
        "y_pred = dtc.predict(X_test)\n",
        "print(y_pred)"
      ],
      "execution_count": 20,
      "outputs": [
        {
          "output_type": "stream",
          "text": [
            "['NORMAL' 'NORMAL' 'NORMAL' 'REABASTECER' 'REABASTECER' 'NORMAL'\n",
            " 'REABASTECER' 'NORMAL' 'REABASTECER' 'NORMAL' 'NORMAL' 'NORMAL' 'NORMAL'\n",
            " 'REABASTECER' 'NORMAL' 'NORMAL' 'NORMAL' 'NORMAL' 'NORMAL' 'REABASTECER'\n",
            " 'NORMAL' 'NORMAL' 'NORMAL' 'REABASTECER' 'NORMAL' 'NORMAL' 'NORMAL'\n",
            " 'NORMAL' 'NORMAL' 'NORMAL' 'NORMAL' 'NORMAL' 'NORMAL' 'REABASTECER'\n",
            " 'REABASTECER' 'REABASTECER' 'NORMAL' 'REABASTECER' 'REABASTECER' 'NORMAL'\n",
            " 'NORMAL' 'NORMAL' 'NORMAL' 'NORMAL' 'REABASTECER' 'NORMAL' 'NORMAL'\n",
            " 'REABASTECER' 'REABASTECER' 'NORMAL' 'REABASTECER' 'NORMAL' 'REABASTECER'\n",
            " 'REABASTECER' 'NORMAL' 'REABASTECER' 'NORMAL' 'REABASTECER' 'NORMAL'\n",
            " 'REABASTECER' 'NORMAL' 'NORMAL' 'REABASTECER' 'NORMAL' 'NORMAL' 'NORMAL'\n",
            " 'NORMAL' 'REABASTECER' 'NORMAL' 'NORMAL' 'REABASTECER' 'NORMAL' 'NORMAL'\n",
            " 'REABASTECER' 'REABASTECER' 'NORMAL' 'NORMAL' 'REABASTECER' 'REABASTECER'\n",
            " 'NORMAL' 'REABASTECER' 'REABASTECER' 'NORMAL' 'NORMAL' 'NORMAL' 'NORMAL'\n",
            " 'NORMAL' 'NORMAL' 'NORMAL' 'NORMAL' 'NORMAL' 'NORMAL' 'REABASTECER'\n",
            " 'NORMAL' 'REABASTECER' 'REABASTECER' 'NORMAL' 'NORMAL' 'REABASTECER'\n",
            " 'REABASTECER' 'NORMAL' 'NORMAL' 'NORMAL' 'NORMAL' 'NORMAL' 'NORMAL'\n",
            " 'NORMAL' 'NORMAL' 'NORMAL' 'NORMAL' 'NORMAL' 'REABASTECER' 'NORMAL'\n",
            " 'REABASTECER' 'REABASTECER' 'NORMAL' 'NORMAL' 'NORMAL' 'NORMAL'\n",
            " 'REABASTECER' 'REABASTECER' 'REABASTECER' 'REABASTECER' 'REABASTECER'\n",
            " 'NORMAL' 'NORMAL' 'NORMAL' 'NORMAL' 'NORMAL' 'REABASTECER' 'REABASTECER'\n",
            " 'NORMAL' 'NORMAL' 'NORMAL' 'NORMAL' 'NORMAL' 'REABASTECER' 'NORMAL'\n",
            " 'NORMAL' 'REABASTECER' 'REABASTECER' 'NORMAL' 'REABASTECER' 'NORMAL'\n",
            " 'REABASTECER' 'NORMAL' 'NORMAL' 'REABASTECER' 'REABASTECER' 'NORMAL'\n",
            " 'REABASTECER' 'REABASTECER' 'NORMAL' 'NORMAL' 'NORMAL' 'NORMAL' 'NORMAL'\n",
            " 'NORMAL' 'NORMAL' 'NORMAL' 'NORMAL' 'NORMAL' 'REABASTECER' 'NORMAL'\n",
            " 'NORMAL' 'NORMAL' 'NORMAL' 'NORMAL' 'NORMAL' 'NORMAL' 'REABASTECER'\n",
            " 'NORMAL' 'REABASTECER' 'NORMAL' 'REABASTECER' 'NORMAL' 'NORMAL' 'NORMAL'\n",
            " 'NORMAL' 'REABASTECER' 'NORMAL' 'NORMAL' 'REABASTECER' 'REABASTECER'\n",
            " 'REABASTECER' 'REABASTECER' 'REABASTECER' 'NORMAL' 'NORMAL' 'NORMAL'\n",
            " 'NORMAL' 'NORMAL' 'NORMAL' 'NORMAL' 'REABASTECER' 'REABASTECER' 'NORMAL'\n",
            " 'REABASTECER' 'NORMAL' 'NORMAL' 'NORMAL' 'REABASTECER' 'NORMAL' 'NORMAL'\n",
            " 'NORMAL' 'NORMAL' 'NORMAL' 'REABASTECER' 'REABASTECER' 'NORMAL' 'NORMAL'\n",
            " 'REABASTECER' 'NORMAL' 'REABASTECER' 'REABASTECER' 'NORMAL' 'REABASTECER'\n",
            " 'NORMAL' 'NORMAL' 'REABASTECER' 'NORMAL' 'REABASTECER' 'REABASTECER'\n",
            " 'NORMAL' 'NORMAL' 'REABASTECER' 'NORMAL' 'NORMAL' 'NORMAL' 'NORMAL'\n",
            " 'REABASTECER' 'NORMAL' 'REABASTECER' 'REABASTECER' 'NORMAL' 'NORMAL'\n",
            " 'REABASTECER' 'REABASTECER' 'REABASTECER' 'NORMAL' 'REABASTECER' 'NORMAL'\n",
            " 'NORMAL' 'NORMAL' 'NORMAL' 'REABASTECER' 'NORMAL' 'REABASTECER'\n",
            " 'REABASTECER' 'NORMAL' 'REABASTECER' 'REABASTECER' 'NORMAL' 'NORMAL'\n",
            " 'NORMAL' 'NORMAL' 'NORMAL' 'NORMAL' 'NORMAL' 'NORMAL' 'NORMAL' 'NORMAL'\n",
            " 'NORMAL' 'NORMAL' 'REABASTECER' 'NORMAL' 'NORMAL' 'NORMAL' 'NORMAL'\n",
            " 'NORMAL' 'NORMAL' 'REABASTECER' 'NORMAL' 'NORMAL' 'NORMAL' 'NORMAL'\n",
            " 'REABASTECER' 'NORMAL' 'NORMAL' 'REABASTECER' 'NORMAL' 'REABASTECER'\n",
            " 'NORMAL' 'REABASTECER' 'NORMAL' 'REABASTECER' 'NORMAL' 'REABASTECER'\n",
            " 'REABASTECER' 'NORMAL' 'NORMAL' 'NORMAL' 'REABASTECER' 'NORMAL'\n",
            " 'REABASTECER' 'NORMAL' 'NORMAL' 'REABASTECER' 'NORMAL' 'NORMAL' 'NORMAL'\n",
            " 'NORMAL' 'NORMAL' 'NORMAL' 'REABASTECER' 'NORMAL' 'REABASTECER' 'NORMAL'\n",
            " 'NORMAL' 'NORMAL' 'NORMAL' 'REABASTECER' 'NORMAL' 'NORMAL' 'REABASTECER'\n",
            " 'NORMAL' 'NORMAL' 'NORMAL' 'NORMAL' 'NORMAL' 'NORMAL' 'NORMAL' 'NORMAL'\n",
            " 'NORMAL' 'REABASTECER' 'REABASTECER' 'REABASTECER' 'NORMAL' 'REABASTECER'\n",
            " 'REABASTECER' 'NORMAL' 'NORMAL' 'NORMAL' 'NORMAL' 'REABASTECER' 'NORMAL'\n",
            " 'NORMAL' 'NORMAL' 'NORMAL' 'NORMAL' 'REABASTECER' 'REABASTECER' 'NORMAL'\n",
            " 'NORMAL' 'REABASTECER' 'NORMAL' 'NORMAL' 'NORMAL' 'NORMAL' 'NORMAL'\n",
            " 'NORMAL' 'REABASTECER' 'NORMAL' 'NORMAL' 'NORMAL' 'NORMAL' 'NORMAL'\n",
            " 'NORMAL' 'NORMAL' 'NORMAL' 'NORMAL' 'REABASTECER' 'NORMAL' 'NORMAL'\n",
            " 'NORMAL' 'NORMAL' 'NORMAL' 'NORMAL' 'REABASTECER' 'NORMAL' 'NORMAL'\n",
            " 'NORMAL' 'NORMAL' 'REABASTECER' 'NORMAL' 'NORMAL' 'NORMAL' 'NORMAL'\n",
            " 'NORMAL' 'REABASTECER' 'NORMAL' 'REABASTECER' 'NORMAL' 'NORMAL' 'NORMAL'\n",
            " 'REABASTECER' 'NORMAL' 'NORMAL' 'NORMAL' 'NORMAL' 'NORMAL' 'NORMAL'\n",
            " 'REABASTECER' 'NORMAL' 'NORMAL' 'REABASTECER' 'NORMAL' 'NORMAL' 'NORMAL'\n",
            " 'NORMAL' 'NORMAL' 'NORMAL' 'NORMAL' 'NORMAL' 'REABASTECER' 'REABASTECER'\n",
            " 'REABASTECER' 'REABASTECER' 'NORMAL' 'REABASTECER' 'NORMAL' 'NORMAL'\n",
            " 'REABASTECER' 'NORMAL' 'NORMAL' 'NORMAL' 'NORMAL' 'NORMAL' 'NORMAL'\n",
            " 'NORMAL' 'REABASTECER' 'REABASTECER' 'REABASTECER' 'REABASTECER' 'NORMAL'\n",
            " 'REABASTECER' 'REABASTECER' 'NORMAL' 'NORMAL' 'REABASTECER' 'NORMAL'\n",
            " 'NORMAL' 'NORMAL' 'NORMAL' 'NORMAL' 'NORMAL' 'NORMAL' 'NORMAL'\n",
            " 'REABASTECER' 'NORMAL' 'NORMAL' 'REABASTECER' 'NORMAL' 'NORMAL' 'NORMAL'\n",
            " 'NORMAL' 'NORMAL' 'REABASTECER' 'NORMAL' 'REABASTECER' 'NORMAL' 'NORMAL'\n",
            " 'NORMAL' 'NORMAL' 'REABASTECER' 'NORMAL' 'REABASTECER' 'REABASTECER'\n",
            " 'NORMAL' 'NORMAL' 'NORMAL' 'REABASTECER' 'NORMAL' 'NORMAL' 'NORMAL'\n",
            " 'NORMAL' 'NORMAL' 'NORMAL' 'NORMAL' 'NORMAL' 'REABASTECER' 'NORMAL'\n",
            " 'REABASTECER' 'REABASTECER' 'NORMAL' 'NORMAL' 'NORMAL' 'REABASTECER'\n",
            " 'REABASTECER' 'NORMAL']\n"
          ],
          "name": "stdout"
        }
      ]
    },
    {
      "cell_type": "markdown",
      "metadata": {
        "id": "Aut6n5bHpUd4",
        "colab_type": "text"
      },
      "source": [
        "### Analisando a qualidade do modelo através da matriz de confusão"
      ]
    },
    {
      "cell_type": "code",
      "metadata": {
        "id": "Gbkj_5r8pUd5",
        "colab_type": "code",
        "colab": {}
      },
      "source": [
        "import matplotlib.pyplot as plt\n",
        "import numpy as np\n",
        "import itertools\n",
        "\n",
        "\n",
        "def plot_confusion_matrix(cm, target_names, title='Confusion matrix', cmap=None, normalize=True):\n",
        "    accuracy = np.trace(cm) / float(np.sum(cm))\n",
        "    misclass = 1 - accuracy\n",
        "    if cmap is None:\n",
        "        cmap = plt.get_cmap('Blues')\n",
        "    plt.figure(figsize=(8, 6))\n",
        "    plt.imshow(cm, interpolation='nearest', cmap=cmap)\n",
        "    plt.title(title)\n",
        "    plt.colorbar()\n",
        "    if target_names is not None:\n",
        "        tick_marks = np.arange(len(target_names))\n",
        "        plt.xticks(tick_marks, target_names, rotation=45)\n",
        "        plt.yticks(tick_marks, target_names)\n",
        "    if normalize:\n",
        "        cm = cm.astype('float') / cm.sum(axis=1)[:, np.newaxis]\n",
        "    thresh = cm.max() / 1.5 if normalize else cm.max() / 2\n",
        "    for i, j in itertools.product(range(cm.shape[0]), range(cm.shape[1])):\n",
        "        if normalize:\n",
        "            plt.text(j, i, \"{:0.2f}\".format(cm[i, j]),\n",
        "                     horizontalalignment=\"center\",\n",
        "                     color=\"white\" if cm[i, j] > thresh else \"black\")\n",
        "        else:\n",
        "            plt.text(j, i, \"{:,}\".format(cm[i, j]),\n",
        "                     horizontalalignment=\"center\",\n",
        "                     color=\"white\" if cm[i, j] > thresh else \"black\")\n",
        "    plt.tight_layout()\n",
        "    plt.ylabel('True label')\n",
        "    plt.xlabel('Predicted label\\naccuracy={:0.4f}; misclass={:0.4f}'.format(accuracy, misclass))\n",
        "    plt.show()"
      ],
      "execution_count": 21,
      "outputs": []
    },
    {
      "cell_type": "code",
      "metadata": {
        "id": "mHqxwz19pUeB",
        "colab_type": "code",
        "colab": {
          "base_uri": "https://localhost:8080/",
          "height": 467
        },
        "outputId": "f576bedd-f959-409f-b5ae-110a705e9b31"
      },
      "source": [
        "from sklearn.metrics import confusion_matrix\n",
        "\n",
        "\n",
        "plot_confusion_matrix(confusion_matrix(y_test, y_pred), ['NORMAL', 'REABASTECER'])"
      ],
      "execution_count": 22,
      "outputs": [
        {
          "output_type": "display_data",
          "data": {
            "image/png": "[encoded data removed]",
            "text/plain": [
              "<Figure size 576x432 with 2 Axes>"
            ]
          },
          "metadata": {
            "tags": [],
            "needs_background": "light"
          }
        }
      ]
    },
    {
      "cell_type": "markdown",
      "metadata": {
        "id": "tFcVGN07pUeE",
        "colab_type": "text"
      },
      "source": [
        "<hr>"
      ]
    },
    {
      "cell_type": "markdown",
      "metadata": {
        "id": "uoXNKUylpUeF",
        "colab_type": "text"
      },
      "source": [
        "## Scoring dos dados necessários para entregar a solução"
      ]
    },
    {
      "cell_type": "markdown",
      "metadata": {
        "id": "nnuSodFQpUeF",
        "colab_type": "text"
      },
      "source": [
        "Como entrega da sua solução, esperamos os resultados classificados no seguinte dataset chamado \"to_be_scored.csv\":"
      ]
    },
    {
      "cell_type": "markdown",
      "metadata": {
        "id": "7ZtBhHqYpUeG",
        "colab_type": "text"
      },
      "source": [
        "### Download da \"folha de respostas\""
      ]
    },
    {
      "cell_type": "code",
      "metadata": {
        "scrolled": false,
        "id": "d4tcuzShpUeG",
        "colab_type": "code",
        "colab": {
          "base_uri": "https://localhost:8080/",
          "height": 391
        },
        "outputId": "cb7424c4-f927-40df-d5b8-97e4e42b056c"
      },
      "source": [
        "!wget --no-check-certificate --content-disposition https://gitlab.com/JoaoPedroPP/datasets/-/raw/master/ntn/to_be_scored.csv\n",
        "df_to_be_scored = pd.read_csv(r'to_be_scored.csv')\n",
        "df_to_be_scored.tail()"
      ],
      "execution_count": 23,
      "outputs": [
        {
          "output_type": "stream",
          "text": [
            "--2020-09-08 21:40:59--  https://gitlab.com/JoaoPedroPP/datasets/-/raw/master/ntn/to_be_scored.csv\n",
            "Resolving gitlab.com (gitlab.com)... 172.65.251.78, 2606:4700:90:0:f22e:fbec:5bed:a9b9\n",
            "Connecting to gitlab.com (gitlab.com)|172.65.251.78|:443... connected.\n",
            "HTTP request sent, awaiting response... 200 OK\n",
            "Length: unspecified [text/plain]\n",
            "Saving to: ‘to_be_scored.csv’\n",
            "\n",
            "\rto_be_scored.csv        [<=>                 ]       0  --.-KB/s               \rto_be_scored.csv        [ <=>                ]  68.64K  --.-KB/s    in 0.01s   \n",
            "\n",
            "2020-09-08 21:40:59 (5.15 MB/s) - ‘to_be_scored.csv’ saved [70291]\n",
            "\n"
          ],
          "name": "stdout"
        },
        {
          "output_type": "execute_result",
          "data": {
            "text/html": [
              "<div>\n",
              "<style scoped>\n",
              "    .dataframe tbody tr th:only-of-type {\n",
              "        vertical-align: middle;\n",
              "    }\n",
              "\n",
              "    .dataframe tbody tr th {\n",
              "        vertical-align: top;\n",
              "    }\n",
              "\n",
              "    .dataframe thead th {\n",
              "        text-align: right;\n",
              "    }\n",
              "</style>\n",
              "<table border=\"1\" class=\"dataframe\">\n",
              "  <thead>\n",
              "    <tr style=\"text-align: right;\">\n",
              "      <th></th>\n",
              "      <th>Tempo</th>\n",
              "      <th>Estação</th>\n",
              "      <th>LAT</th>\n",
              "      <th>LONG</th>\n",
              "      <th>Movimentação</th>\n",
              "      <th>Original_473</th>\n",
              "      <th>Original_269</th>\n",
              "      <th>Zero</th>\n",
              "      <th>Maçã-Verde</th>\n",
              "      <th>Tangerina</th>\n",
              "      <th>Citrus</th>\n",
              "      <th>Açaí-Guaraná</th>\n",
              "      <th>Pêssego</th>\n",
              "    </tr>\n",
              "  </thead>\n",
              "  <tbody>\n",
              "    <tr>\n",
              "      <th>979</th>\n",
              "      <td>2019-8-19</td>\n",
              "      <td>Hospital São Paulo</td>\n",
              "      <td>-23.5984</td>\n",
              "      <td>-46.6455</td>\n",
              "      <td>26787</td>\n",
              "      <td>34</td>\n",
              "      <td>65</td>\n",
              "      <td>28</td>\n",
              "      <td>17</td>\n",
              "      <td>33</td>\n",
              "      <td>27</td>\n",
              "      <td>6</td>\n",
              "      <td>2</td>\n",
              "    </tr>\n",
              "    <tr>\n",
              "      <th>980</th>\n",
              "      <td>2019-8-20</td>\n",
              "      <td>Hospital São Paulo</td>\n",
              "      <td>-23.5984</td>\n",
              "      <td>-46.6455</td>\n",
              "      <td>26629</td>\n",
              "      <td>21</td>\n",
              "      <td>60</td>\n",
              "      <td>18</td>\n",
              "      <td>15</td>\n",
              "      <td>27</td>\n",
              "      <td>22</td>\n",
              "      <td>43</td>\n",
              "      <td>43</td>\n",
              "    </tr>\n",
              "    <tr>\n",
              "      <th>981</th>\n",
              "      <td>2019-8-21</td>\n",
              "      <td>Hospital São Paulo</td>\n",
              "      <td>-23.5984</td>\n",
              "      <td>-46.6455</td>\n",
              "      <td>27517</td>\n",
              "      <td>9</td>\n",
              "      <td>56</td>\n",
              "      <td>13</td>\n",
              "      <td>14</td>\n",
              "      <td>21</td>\n",
              "      <td>17</td>\n",
              "      <td>37</td>\n",
              "      <td>37</td>\n",
              "    </tr>\n",
              "    <tr>\n",
              "      <th>982</th>\n",
              "      <td>2019-8-22</td>\n",
              "      <td>Hospital São Paulo</td>\n",
              "      <td>-23.5984</td>\n",
              "      <td>-46.6455</td>\n",
              "      <td>26860</td>\n",
              "      <td>86</td>\n",
              "      <td>49</td>\n",
              "      <td>7</td>\n",
              "      <td>14</td>\n",
              "      <td>17</td>\n",
              "      <td>12</td>\n",
              "      <td>33</td>\n",
              "      <td>33</td>\n",
              "    </tr>\n",
              "    <tr>\n",
              "      <th>983</th>\n",
              "      <td>2019-8-23</td>\n",
              "      <td>Hospital São Paulo</td>\n",
              "      <td>-23.5984</td>\n",
              "      <td>-46.6455</td>\n",
              "      <td>24571</td>\n",
              "      <td>74</td>\n",
              "      <td>41</td>\n",
              "      <td>65</td>\n",
              "      <td>8</td>\n",
              "      <td>14</td>\n",
              "      <td>7</td>\n",
              "      <td>27</td>\n",
              "      <td>27</td>\n",
              "    </tr>\n",
              "  </tbody>\n",
              "</table>\n",
              "</div>"
            ],
            "text/plain": [
              "         Tempo             Estação      LAT  ...  Citrus  Açaí-Guaraná  Pêssego\n",
              "979  2019-8-19  Hospital São Paulo -23.5984  ...      27             6        2\n",
              "980  2019-8-20  Hospital São Paulo -23.5984  ...      22            43       43\n",
              "981  2019-8-21  Hospital São Paulo -23.5984  ...      17            37       37\n",
              "982  2019-8-22  Hospital São Paulo -23.5984  ...      12            33       33\n",
              "983  2019-8-23  Hospital São Paulo -23.5984  ...       7            27       27\n",
              "\n",
              "[5 rows x 13 columns]"
            ]
          },
          "metadata": {
            "tags": []
          },
          "execution_count": 23
        }
      ]
    },
    {
      "cell_type": "code",
      "metadata": {
        "id": "Ty_0LOZrpUeK",
        "colab_type": "code",
        "colab": {
          "base_uri": "https://localhost:8080/",
          "height": 204
        },
        "outputId": "26d181b7-3271-4e41-f7b6-aafba4ad3601"
      },
      "source": [
        "df_to_be_scored = pd.read_csv('to_be_scored.csv')\n",
        "df_to_be_scored.tail()"
      ],
      "execution_count": 24,
      "outputs": [
        {
          "output_type": "execute_result",
          "data": {
            "text/html": [
              "<div>\n",
              "<style scoped>\n",
              "    .dataframe tbody tr th:only-of-type {\n",
              "        vertical-align: middle;\n",
              "    }\n",
              "\n",
              "    .dataframe tbody tr th {\n",
              "        vertical-align: top;\n",
              "    }\n",
              "\n",
              "    .dataframe thead th {\n",
              "        text-align: right;\n",
              "    }\n",
              "</style>\n",
              "<table border=\"1\" class=\"dataframe\">\n",
              "  <thead>\n",
              "    <tr style=\"text-align: right;\">\n",
              "      <th></th>\n",
              "      <th>Tempo</th>\n",
              "      <th>Estação</th>\n",
              "      <th>LAT</th>\n",
              "      <th>LONG</th>\n",
              "      <th>Movimentação</th>\n",
              "      <th>Original_473</th>\n",
              "      <th>Original_269</th>\n",
              "      <th>Zero</th>\n",
              "      <th>Maçã-Verde</th>\n",
              "      <th>Tangerina</th>\n",
              "      <th>Citrus</th>\n",
              "      <th>Açaí-Guaraná</th>\n",
              "      <th>Pêssego</th>\n",
              "    </tr>\n",
              "  </thead>\n",
              "  <tbody>\n",
              "    <tr>\n",
              "      <th>979</th>\n",
              "      <td>2019-8-19</td>\n",
              "      <td>Hospital São Paulo</td>\n",
              "      <td>-23.5984</td>\n",
              "      <td>-46.6455</td>\n",
              "      <td>26787</td>\n",
              "      <td>34</td>\n",
              "      <td>65</td>\n",
              "      <td>28</td>\n",
              "      <td>17</td>\n",
              "      <td>33</td>\n",
              "      <td>27</td>\n",
              "      <td>6</td>\n",
              "      <td>2</td>\n",
              "    </tr>\n",
              "    <tr>\n",
              "      <th>980</th>\n",
              "      <td>2019-8-20</td>\n",
              "      <td>Hospital São Paulo</td>\n",
              "      <td>-23.5984</td>\n",
              "      <td>-46.6455</td>\n",
              "      <td>26629</td>\n",
              "      <td>21</td>\n",
              "      <td>60</td>\n",
              "      <td>18</td>\n",
              "      <td>15</td>\n",
              "      <td>27</td>\n",
              "      <td>22</td>\n",
              "      <td>43</td>\n",
              "      <td>43</td>\n",
              "    </tr>\n",
              "    <tr>\n",
              "      <th>981</th>\n",
              "      <td>2019-8-21</td>\n",
              "      <td>Hospital São Paulo</td>\n",
              "      <td>-23.5984</td>\n",
              "      <td>-46.6455</td>\n",
              "      <td>27517</td>\n",
              "      <td>9</td>\n",
              "      <td>56</td>\n",
              "      <td>13</td>\n",
              "      <td>14</td>\n",
              "      <td>21</td>\n",
              "      <td>17</td>\n",
              "      <td>37</td>\n",
              "      <td>37</td>\n",
              "    </tr>\n",
              "    <tr>\n",
              "      <th>982</th>\n",
              "      <td>2019-8-22</td>\n",
              "      <td>Hospital São Paulo</td>\n",
              "      <td>-23.5984</td>\n",
              "      <td>-46.6455</td>\n",
              "      <td>26860</td>\n",
              "      <td>86</td>\n",
              "      <td>49</td>\n",
              "      <td>7</td>\n",
              "      <td>14</td>\n",
              "      <td>17</td>\n",
              "      <td>12</td>\n",
              "      <td>33</td>\n",
              "      <td>33</td>\n",
              "    </tr>\n",
              "    <tr>\n",
              "      <th>983</th>\n",
              "      <td>2019-8-23</td>\n",
              "      <td>Hospital São Paulo</td>\n",
              "      <td>-23.5984</td>\n",
              "      <td>-46.6455</td>\n",
              "      <td>24571</td>\n",
              "      <td>74</td>\n",
              "      <td>41</td>\n",
              "      <td>65</td>\n",
              "      <td>8</td>\n",
              "      <td>14</td>\n",
              "      <td>7</td>\n",
              "      <td>27</td>\n",
              "      <td>27</td>\n",
              "    </tr>\n",
              "  </tbody>\n",
              "</table>\n",
              "</div>"
            ],
            "text/plain": [
              "         Tempo             Estação      LAT  ...  Citrus  Açaí-Guaraná  Pêssego\n",
              "979  2019-8-19  Hospital São Paulo -23.5984  ...      27             6        2\n",
              "980  2019-8-20  Hospital São Paulo -23.5984  ...      22            43       43\n",
              "981  2019-8-21  Hospital São Paulo -23.5984  ...      17            37       37\n",
              "982  2019-8-22  Hospital São Paulo -23.5984  ...      12            33       33\n",
              "983  2019-8-23  Hospital São Paulo -23.5984  ...       7            27       27\n",
              "\n",
              "[5 rows x 13 columns]"
            ]
          },
          "metadata": {
            "tags": []
          },
          "execution_count": 24
        }
      ]
    },
    {
      "cell_type": "code",
      "metadata": {
        "id": "MtPhEnG3rXRH",
        "colab_type": "code",
        "colab": {
          "base_uri": "https://localhost:8080/",
          "height": 357
        },
        "outputId": "a1e121d7-0e9a-438d-e0a1-8a38da41e1ba"
      },
      "source": [
        "df_to_be_scored.info()"
      ],
      "execution_count": 34,
      "outputs": [
        {
          "output_type": "stream",
          "text": [
            "<class 'pandas.core.frame.DataFrame'>\n",
            "RangeIndex: 984 entries, 0 to 983\n",
            "Data columns (total 13 columns):\n",
            " #   Column        Non-Null Count  Dtype  \n",
            "---  ------        --------------  -----  \n",
            " 0   Tempo         984 non-null    object \n",
            " 1   Estação       984 non-null    object \n",
            " 2   LAT           984 non-null    float64\n",
            " 3   LONG          984 non-null    float64\n",
            " 4   Movimentação  984 non-null    int64  \n",
            " 5   Original_473  984 non-null    int64  \n",
            " 6   Original_269  984 non-null    int64  \n",
            " 7   Zero          984 non-null    int64  \n",
            " 8   Maçã-Verde    984 non-null    int64  \n",
            " 9   Tangerina     984 non-null    int64  \n",
            " 10  Citrus        984 non-null    int64  \n",
            " 11  Açaí-Guaraná  984 non-null    int64  \n",
            " 12  Pêssego       984 non-null    int64  \n",
            "dtypes: float64(2), int64(9), object(2)\n",
            "memory usage: 100.1+ KB\n"
          ],
          "name": "stdout"
        }
      ]
    },
    {
      "cell_type": "markdown",
      "metadata": {
        "id": "FD1oFx5ypUeP",
        "colab_type": "text"
      },
      "source": [
        "# Atenção!\n",
        "\n",
        "O dataframe ``to_be_scored`` é a sua \"folha de respostas\". Note que a coluna \"TARGET\" não existe nessa amostra, que não pode ser então utilizada para treino de modelos de aprendizado supervisionado."
      ]
    },
    {
      "cell_type": "code",
      "metadata": {
        "scrolled": true,
        "id": "bvJ-ycMLpUeQ",
        "colab_type": "code",
        "colab": {
          "base_uri": "https://localhost:8080/",
          "height": 357
        },
        "outputId": "4b537b90-ae04-4054-9d11-762731db9631"
      },
      "source": [
        "df_to_be_scored.info()"
      ],
      "execution_count": 25,
      "outputs": [
        {
          "output_type": "stream",
          "text": [
            "<class 'pandas.core.frame.DataFrame'>\n",
            "RangeIndex: 984 entries, 0 to 983\n",
            "Data columns (total 13 columns):\n",
            " #   Column        Non-Null Count  Dtype  \n",
            "---  ------        --------------  -----  \n",
            " 0   Tempo         984 non-null    object \n",
            " 1   Estação       984 non-null    object \n",
            " 2   LAT           984 non-null    float64\n",
            " 3   LONG          984 non-null    float64\n",
            " 4   Movimentação  984 non-null    int64  \n",
            " 5   Original_473  984 non-null    int64  \n",
            " 6   Original_269  984 non-null    int64  \n",
            " 7   Zero          984 non-null    int64  \n",
            " 8   Maçã-Verde    984 non-null    int64  \n",
            " 9   Tangerina     984 non-null    int64  \n",
            " 10  Citrus        984 non-null    int64  \n",
            " 11  Açaí-Guaraná  984 non-null    int64  \n",
            " 12  Pêssego       984 non-null    int64  \n",
            "dtypes: float64(2), int64(9), object(2)\n",
            "memory usage: 100.1+ KB\n"
          ],
          "name": "stdout"
        }
      ]
    },
    {
      "cell_type": "markdown",
      "metadata": {
        "id": "1FGQcb_VpUeT",
        "colab_type": "text"
      },
      "source": [
        "<hr>\n",
        "\n",
        "# Atenção!\n",
        "\n",
        "# Para poder aplicar seu modelo e classificar a folha de respostas, você precisa primeiro aplicar as mesmas transformações com colunas que você aplicou no dataset de treino.\n",
        "\n",
        "# Não remova ou adicione linhas na folha de respostas. \n",
        "\n",
        "# Não altere a ordem das linhas na folha de respostas.\n",
        "\n",
        "# Ao final, as 1000 entradas devem estar classificadas, com os valores previstos em uma coluna chamada \"target\"\n",
        "\n",
        "<hr>"
      ]
    },
    {
      "cell_type": "markdown",
      "metadata": {
        "id": "IBiPIh67pUeU",
        "colab_type": "text"
      },
      "source": [
        "Na célula abaixo, repetimos rapidamente os mesmos passos de pré-processamento usados no exemplo dado com árvore de decisão"
      ]
    },
    {
      "cell_type": "code",
      "metadata": {
        "id": "KnHb7B3mpUeU",
        "colab_type": "code",
        "colab": {
          "base_uri": "https://localhost:8080/",
          "height": 204
        },
        "outputId": "e73101dd-b352-4f61-904a-5f47ddcfd5da"
      },
      "source": [
        "# 1 - Removendo linhas com valores NaN\n",
        "df_to_be_scored_1 = df_to_be_scored.dropna(axis='index', how='any', subset=['Tempo', 'Estação', 'LAT', 'LONG', 'Movimentação', 'Original_473', 'Original_269', 'Zero', 'Maçã-Verde', 'Tangerina', 'Citrus', 'Açaí-Guaraná', 'Pêssego'])\n",
        "\n",
        "# 2 - Inputando zeros nos valores faltantes\n",
        "impute_zeros.fit(X=df_to_be_scored_1)\n",
        "df_to_be_scored_2 = pd.DataFrame.from_records(\n",
        "    data=impute_zeros.transform(\n",
        "        X=df_to_be_scored_1\n",
        "    ),\n",
        "    columns=df_to_be_scored_1.columns\n",
        ")\n",
        "\n",
        "# 3 - Remoção de colunas\n",
        "df_to_be_scored_3 = df_to_be_scored_2.drop(columns=['Tempo', 'Estação', 'LAT', 'LONG', 'Movimentação'], inplace=False)\n",
        "\n",
        "# 4 - Encoding com \"dummy variables\" (se necessário)\n",
        "# df_to_be_scored_4 = pd.get_dummies(df_to_be_scored_3, columns=['Váriavel com dummy'])\n",
        "df_to_be_scored_4 = df_to_be_scored_3\n",
        "\n",
        "df_to_be_scored_4.tail()"
      ],
      "execution_count": 26,
      "outputs": [
        {
          "output_type": "execute_result",
          "data": {
            "text/html": [
              "<div>\n",
              "<style scoped>\n",
              "    .dataframe tbody tr th:only-of-type {\n",
              "        vertical-align: middle;\n",
              "    }\n",
              "\n",
              "    .dataframe tbody tr th {\n",
              "        vertical-align: top;\n",
              "    }\n",
              "\n",
              "    .dataframe thead th {\n",
              "        text-align: right;\n",
              "    }\n",
              "</style>\n",
              "<table border=\"1\" class=\"dataframe\">\n",
              "  <thead>\n",
              "    <tr style=\"text-align: right;\">\n",
              "      <th></th>\n",
              "      <th>Original_473</th>\n",
              "      <th>Original_269</th>\n",
              "      <th>Zero</th>\n",
              "      <th>Maçã-Verde</th>\n",
              "      <th>Tangerina</th>\n",
              "      <th>Citrus</th>\n",
              "      <th>Açaí-Guaraná</th>\n",
              "      <th>Pêssego</th>\n",
              "    </tr>\n",
              "  </thead>\n",
              "  <tbody>\n",
              "    <tr>\n",
              "      <th>979</th>\n",
              "      <td>34</td>\n",
              "      <td>65</td>\n",
              "      <td>28</td>\n",
              "      <td>17</td>\n",
              "      <td>33</td>\n",
              "      <td>27</td>\n",
              "      <td>6</td>\n",
              "      <td>2</td>\n",
              "    </tr>\n",
              "    <tr>\n",
              "      <th>980</th>\n",
              "      <td>21</td>\n",
              "      <td>60</td>\n",
              "      <td>18</td>\n",
              "      <td>15</td>\n",
              "      <td>27</td>\n",
              "      <td>22</td>\n",
              "      <td>43</td>\n",
              "      <td>43</td>\n",
              "    </tr>\n",
              "    <tr>\n",
              "      <th>981</th>\n",
              "      <td>9</td>\n",
              "      <td>56</td>\n",
              "      <td>13</td>\n",
              "      <td>14</td>\n",
              "      <td>21</td>\n",
              "      <td>17</td>\n",
              "      <td>37</td>\n",
              "      <td>37</td>\n",
              "    </tr>\n",
              "    <tr>\n",
              "      <th>982</th>\n",
              "      <td>86</td>\n",
              "      <td>49</td>\n",
              "      <td>7</td>\n",
              "      <td>14</td>\n",
              "      <td>17</td>\n",
              "      <td>12</td>\n",
              "      <td>33</td>\n",
              "      <td>33</td>\n",
              "    </tr>\n",
              "    <tr>\n",
              "      <th>983</th>\n",
              "      <td>74</td>\n",
              "      <td>41</td>\n",
              "      <td>65</td>\n",
              "      <td>8</td>\n",
              "      <td>14</td>\n",
              "      <td>7</td>\n",
              "      <td>27</td>\n",
              "      <td>27</td>\n",
              "    </tr>\n",
              "  </tbody>\n",
              "</table>\n",
              "</div>"
            ],
            "text/plain": [
              "     Original_473  Original_269  Zero  ...  Citrus  Açaí-Guaraná  Pêssego\n",
              "979            34            65    28  ...      27             6        2\n",
              "980            21            60    18  ...      22            43       43\n",
              "981             9            56    13  ...      17            37       37\n",
              "982            86            49     7  ...      12            33       33\n",
              "983            74            41    65  ...       7            27       27\n",
              "\n",
              "[5 rows x 8 columns]"
            ]
          },
          "metadata": {
            "tags": []
          },
          "execution_count": 26
        }
      ]
    },
    {
      "cell_type": "markdown",
      "metadata": {
        "id": "0-34r7CzpUea",
        "colab_type": "text"
      },
      "source": [
        "<hr>\n",
        "\n",
        "Pode ser verificado abaixo que as colunas da folha de resposta agora são idênticas às que foram usadas para treinar o modelo:"
      ]
    },
    {
      "cell_type": "code",
      "metadata": {
        "id": "bFBxmaRapUea",
        "colab_type": "code",
        "colab": {
          "base_uri": "https://localhost:8080/",
          "height": 68
        },
        "outputId": "a5e3e67c-d778-4867-c74f-ff44649221fe"
      },
      "source": [
        "df_training[\n",
        "    [\n",
        "        'Original_473', 'Original_269', 'Zero', 'Maçã-Verde', 'Tangerina',\n",
        "       'Citrus', 'Açaí-Guaraná', 'Pêssego'\n",
        "    ]\n",
        "].columns"
      ],
      "execution_count": 27,
      "outputs": [
        {
          "output_type": "execute_result",
          "data": {
            "text/plain": [
              "Index(['Original_473', 'Original_269', 'Zero', 'Maçã-Verde', 'Tangerina',\n",
              "       'Citrus', 'Açaí-Guaraná', 'Pêssego'],\n",
              "      dtype='object')"
            ]
          },
          "metadata": {
            "tags": []
          },
          "execution_count": 27
        }
      ]
    },
    {
      "cell_type": "code",
      "metadata": {
        "id": "h93Gs1jIpUef",
        "colab_type": "code",
        "colab": {
          "base_uri": "https://localhost:8080/",
          "height": 68
        },
        "outputId": "ef049db8-f3d6-4f80-be2e-71197051a0f6"
      },
      "source": [
        "df_to_be_scored_4.columns"
      ],
      "execution_count": 28,
      "outputs": [
        {
          "output_type": "execute_result",
          "data": {
            "text/plain": [
              "Index(['Original_473', 'Original_269', 'Zero', 'Maçã-Verde', 'Tangerina',\n",
              "       'Citrus', 'Açaí-Guaraná', 'Pêssego'],\n",
              "      dtype='object')"
            ]
          },
          "metadata": {
            "tags": []
          },
          "execution_count": 28
        }
      ]
    },
    {
      "cell_type": "markdown",
      "metadata": {
        "id": "K5i3Qq2TpUei",
        "colab_type": "text"
      },
      "source": [
        "# Atenção\n",
        "\n",
        "Para todas colunas que não existirem no \"df_to_be_scored\", você pode usar a técnica abaixo para adicioná-las:"
      ]
    },
    {
      "cell_type": "code",
      "metadata": {
        "scrolled": false,
        "id": "SYcy3BwppUei",
        "colab_type": "code",
        "colab": {
          "base_uri": "https://localhost:8080/",
          "height": 204
        },
        "outputId": "06554940-9403-4cff-feb2-287f0d6efd87"
      },
      "source": [
        "y_pred = dtc.predict(df_to_be_scored_4)\n",
        "df_to_be_scored_4['TARGET'] = y_pred\n",
        "df_to_be_scored_4.tail()"
      ],
      "execution_count": 29,
      "outputs": [
        {
          "output_type": "execute_result",
          "data": {
            "text/html": [
              "<div>\n",
              "<style scoped>\n",
              "    .dataframe tbody tr th:only-of-type {\n",
              "        vertical-align: middle;\n",
              "    }\n",
              "\n",
              "    .dataframe tbody tr th {\n",
              "        vertical-align: top;\n",
              "    }\n",
              "\n",
              "    .dataframe thead th {\n",
              "        text-align: right;\n",
              "    }\n",
              "</style>\n",
              "<table border=\"1\" class=\"dataframe\">\n",
              "  <thead>\n",
              "    <tr style=\"text-align: right;\">\n",
              "      <th></th>\n",
              "      <th>Original_473</th>\n",
              "      <th>Original_269</th>\n",
              "      <th>Zero</th>\n",
              "      <th>Maçã-Verde</th>\n",
              "      <th>Tangerina</th>\n",
              "      <th>Citrus</th>\n",
              "      <th>Açaí-Guaraná</th>\n",
              "      <th>Pêssego</th>\n",
              "      <th>TARGET</th>\n",
              "    </tr>\n",
              "  </thead>\n",
              "  <tbody>\n",
              "    <tr>\n",
              "      <th>979</th>\n",
              "      <td>34</td>\n",
              "      <td>65</td>\n",
              "      <td>28</td>\n",
              "      <td>17</td>\n",
              "      <td>33</td>\n",
              "      <td>27</td>\n",
              "      <td>6</td>\n",
              "      <td>2</td>\n",
              "      <td>REABASTECER</td>\n",
              "    </tr>\n",
              "    <tr>\n",
              "      <th>980</th>\n",
              "      <td>21</td>\n",
              "      <td>60</td>\n",
              "      <td>18</td>\n",
              "      <td>15</td>\n",
              "      <td>27</td>\n",
              "      <td>22</td>\n",
              "      <td>43</td>\n",
              "      <td>43</td>\n",
              "      <td>NORMAL</td>\n",
              "    </tr>\n",
              "    <tr>\n",
              "      <th>981</th>\n",
              "      <td>9</td>\n",
              "      <td>56</td>\n",
              "      <td>13</td>\n",
              "      <td>14</td>\n",
              "      <td>21</td>\n",
              "      <td>17</td>\n",
              "      <td>37</td>\n",
              "      <td>37</td>\n",
              "      <td>NORMAL</td>\n",
              "    </tr>\n",
              "    <tr>\n",
              "      <th>982</th>\n",
              "      <td>86</td>\n",
              "      <td>49</td>\n",
              "      <td>7</td>\n",
              "      <td>14</td>\n",
              "      <td>17</td>\n",
              "      <td>12</td>\n",
              "      <td>33</td>\n",
              "      <td>33</td>\n",
              "      <td>REABASTECER</td>\n",
              "    </tr>\n",
              "    <tr>\n",
              "      <th>983</th>\n",
              "      <td>74</td>\n",
              "      <td>41</td>\n",
              "      <td>65</td>\n",
              "      <td>8</td>\n",
              "      <td>14</td>\n",
              "      <td>7</td>\n",
              "      <td>27</td>\n",
              "      <td>27</td>\n",
              "      <td>NORMAL</td>\n",
              "    </tr>\n",
              "  </tbody>\n",
              "</table>\n",
              "</div>"
            ],
            "text/plain": [
              "     Original_473  Original_269  Zero  ...  Açaí-Guaraná  Pêssego       TARGET\n",
              "979            34            65    28  ...             6        2  REABASTECER\n",
              "980            21            60    18  ...            43       43       NORMAL\n",
              "981             9            56    13  ...            37       37       NORMAL\n",
              "982            86            49     7  ...            33       33  REABASTECER\n",
              "983            74            41    65  ...            27       27       NORMAL\n",
              "\n",
              "[5 rows x 9 columns]"
            ]
          },
          "metadata": {
            "tags": []
          },
          "execution_count": 29
        }
      ]
    },
    {
      "cell_type": "markdown",
      "metadata": {
        "id": "-fJcEVZspUem",
        "colab_type": "text"
      },
      "source": [
        "### Salvando a folha de respostas como um arquivo .csv para ser submetido"
      ]
    },
    {
      "cell_type": "code",
      "metadata": {
        "id": "SwUvjqYXrmKI",
        "colab_type": "code",
        "colab": {
          "base_uri": "https://localhost:8080/",
          "height": 34
        },
        "outputId": "ce496e55-c92c-46eb-ca60-68732a086d50"
      },
      "source": [
        "df_to_be_scored_4.shape"
      ],
      "execution_count": 35,
      "outputs": [
        {
          "output_type": "execute_result",
          "data": {
            "text/plain": [
              "(984, 9)"
            ]
          },
          "metadata": {
            "tags": []
          },
          "execution_count": 35
        }
      ]
    },
    {
      "cell_type": "code",
      "metadata": {
        "id": "JgkqMLh7pUem",
        "colab_type": "code",
        "colab": {}
      },
      "source": [
        "df_to_be_scored_4.to_csv('result.csv',index=False)"
      ],
      "execution_count": 31,
      "outputs": []
    },
    {
      "cell_type": "markdown",
      "metadata": {
        "id": "WqTsM5e6pUeq",
        "colab_type": "text"
      },
      "source": [
        "# Atenção\n",
        "\n",
        "# A execução da célula acima irá criar um novo \"data asset\" no seu projeto no Watson Studio. Você precisará realizar o download deste arquivo juntamente com este notebook e criar um arquivo zip com os arquivos **results.csv** e **notebook.ipynb** para submissão. (os arquivos devem estar nomeados desta forma)"
      ]
    },
    {
      "cell_type": "markdown",
      "metadata": {
        "id": "nHMzQXznpUeq",
        "colab_type": "text"
      },
      "source": [
        "<hr>\n",
        "\n",
        "## Parabéns!\n",
        "\n",
        "Se você já está satisfeito com a sua solução, vá até a página abaixo e envie os arquivos necessários para submissão.\n",
        "\n",
        "# https://tnt.maratona.dev\n"
      ]
    },
    {
      "cell_type": "code",
      "metadata": {
        "id": "HKX5SgBepUer",
        "colab_type": "code",
        "colab": {}
      },
      "source": [
        ""
      ],
      "execution_count": null,
      "outputs": []
    }
  ]
}